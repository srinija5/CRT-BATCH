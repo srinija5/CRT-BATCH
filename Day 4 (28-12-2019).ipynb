{
 "cells": [
  {
   "cell_type": "code",
   "execution_count": 1,
   "metadata": {},
   "outputs": [],
   "source": [
    "# stringmethods continuation"
   ]
  },
  {
   "cell_type": "code",
   "execution_count": 4,
   "metadata": {},
   "outputs": [
    {
     "name": "stdout",
     "output_type": "stream",
     "text": [
      "PYTHON\n",
      "python\n"
     ]
    }
   ],
   "source": [
    "s=\"python\" # upper case letters and lower case letters\n",
    "print(s.upper())\n",
    "print(s.lower())"
   ]
  },
  {
   "cell_type": "code",
   "execution_count": 5,
   "metadata": {},
   "outputs": [],
   "source": [
    "# string boolean methods"
   ]
  },
  {
   "cell_type": "code",
   "execution_count": 7,
   "metadata": {},
   "outputs": [
    {
     "name": "stdout",
     "output_type": "stream",
     "text": [
      "python\n",
      "True\n",
      "False\n"
     ]
    }
   ],
   "source": [
    "print(s)\n",
    "print(s.islower()) #checks whether the string is in upper case or not and returns a boolean value\n",
    "print(s.isupper()) #checks whether the string is in lower case or not and returns a boolean value"
   ]
  },
  {
   "cell_type": "code",
   "execution_count": 9,
   "metadata": {},
   "outputs": [
    {
     "name": "stdout",
     "output_type": "stream",
     "text": [
      "True\n",
      "False\n"
     ]
    }
   ],
   "source": [
    "s1=\"Python Programming\"\n",
    "s2=\"python programming\"\n",
    "print(s1.istitle())   # considered as a title only if the forst letter is capital\n",
    "print(s2.istitle())"
   ]
  },
  {
   "cell_type": "code",
   "execution_count": 20,
   "metadata": {},
   "outputs": [
    {
     "name": "stdout",
     "output_type": "stream",
     "text": [
      "False\n",
      "True\n",
      "True\n",
      "False\n",
      "True\n"
     ]
    }
   ],
   "source": [
    "#isnumeric(), isaplpha() , isspace()\n",
    "s3=\"Py123\"\n",
    "s4=\"12345\"\n",
    "s5=\"ghfhsdhdf\"\n",
    "s6=\"dfuhfdi jgfdrgj\"\n",
    "s7=\"  \"\n",
    "print(s3.isnumeric())  #checks whether the string contains only numbers or not and returns a boolean value\n",
    "print(s4.isnumeric())\n",
    "print(s5.isalpha())  #checks whether the string contains only alphabets or not and returns a boolean value\n",
    "print(s6.isspace())  #returns false because the string must contain only a space no alphabets and no numbers.\n",
    "print(s7.isspace())"
   ]
  },
  {
   "cell_type": "code",
   "execution_count": 3,
   "metadata": {},
   "outputs": [
    {
     "data": {
      "text/plain": [
       "[1, 2, 3, 4, 6]"
      ]
     },
     "execution_count": 3,
     "metadata": {},
     "output_type": "execute_result"
    }
   ],
   "source": [
    "# function to convert digits in a number to list\n",
    "# input: 1736473\n",
    "# output: [1,7,3,6,4,7,3]\n",
    "def listconversion(n):\n",
    "    l=[]\n",
    "    while(n!=0):\n",
    "        i=n%10\n",
    "        l.append(i)    #adding numbers to the end of the list\n",
    "        n=n//10\n",
    "    l.reverse()\n",
    "    return l\n",
    "    \n",
    "listconversion(12346)    "
   ]
  },
  {
   "cell_type": "code",
   "execution_count": 9,
   "metadata": {},
   "outputs": [
    {
     "name": "stdout",
     "output_type": "stream",
     "text": [
      "enter the number32\n",
      "1 2 4 8 16 32 "
     ]
    }
   ],
   "source": [
    "#function to check the factors of the number\n",
    "#input :12\n",
    "#output:1,2,3,4,6,12\n",
    "def factors(n):\n",
    "    for i in range(1,n+1):\n",
    "        if(n%i==0):\n",
    "            print(i, end=\" \")\n",
    "n=int(input(\"enter the number\"))\n",
    "factors(n)"
   ]
  },
  {
   "cell_type": "code",
   "execution_count": 24,
   "metadata": {},
   "outputs": [
    {
     "name": "stdout",
     "output_type": "stream",
     "text": [
      "enter the number500\n",
      "enter the range520\n",
      "500 502 504 506 508 510 512 514 516 518 520 "
     ]
    }
   ],
   "source": [
    "def rangeseq(i,n):\n",
    "    for a in range(i,n+1,2):\n",
    "        print(a,end=\" \")\n",
    "i=int(input(\"enter the number\"))\n",
    "n=int(input(\"enter the range\"))\n",
    "rangeseq(i,n)"
   ]
  },
  {
   "cell_type": "code",
   "execution_count": 26,
   "metadata": {},
   "outputs": [
    {
     "data": {
      "text/plain": [
       "8"
      ]
     },
     "execution_count": 26,
     "metadata": {},
     "output_type": "execute_result"
    }
   ],
   "source": [
    "a=272348\n",
    "int(max(str(a)))    #converting the number into string and getting the maximum number and making it into int type"
   ]
  },
  {
   "cell_type": "code",
   "execution_count": 27,
   "metadata": {},
   "outputs": [
    {
     "name": "stdout",
     "output_type": "stream",
     "text": [
      "enter the string345\n"
     ]
    },
    {
     "data": {
      "text/plain": [
       "['3', '4', '5']"
      ]
     },
     "execution_count": 27,
     "metadata": {},
     "output_type": "execute_result"
    }
   ],
   "source": [
    "# input s=\"Python\"\n",
    "# output : [p,y,t,h,o,n]\n",
    "str=input(\"enter the string\")\n",
    "list(str)"
   ]
  },
  {
   "cell_type": "code",
   "execution_count": 45,
   "metadata": {},
   "outputs": [
    {
     "data": {
      "text/plain": [
       "120"
      ]
     },
     "execution_count": 45,
     "metadata": {},
     "output_type": "execute_result"
    }
   ],
   "source": [
    "def factorial(n):       #factorial program\n",
    "    fact=1\n",
    "    i=1\n",
    "    while(i<=n):\n",
    "        fact=fact*i\n",
    "        i=i+1\n",
    "    return fact\n",
    "factorial(5)"
   ]
  },
  {
   "cell_type": "code",
   "execution_count": 48,
   "metadata": {},
   "outputs": [
    {
     "name": "stdout",
     "output_type": "stream",
     "text": [
      "enter the number145\n",
      "strong number\n"
     ]
    }
   ],
   "source": [
    "#strong number\n",
    "n=int(input(\"enter the number\"))\n",
    "def strongnum(n):\n",
    "    t=0\n",
    "    k=n\n",
    "    while(n!=0):\n",
    "        i=n%10\n",
    "        t=t+factorial(i)\n",
    "        n=n//10\n",
    "    if(k==t):\n",
    "        print(\"strong number\")\n",
    "strongnum(n)"
   ]
  },
  {
   "cell_type": "code",
   "execution_count": null,
   "metadata": {},
   "outputs": [],
   "source": []
  }
 ],
 "metadata": {
  "kernelspec": {
   "display_name": "Python 3",
   "language": "python",
   "name": "python3"
  },
  "language_info": {
   "codemirror_mode": {
    "name": "ipython",
    "version": 3
   },
   "file_extension": ".py",
   "mimetype": "text/x-python",
   "name": "python",
   "nbconvert_exporter": "python",
   "pygments_lexer": "ipython3",
   "version": "3.7.3"
  }
 },
 "nbformat": 4,
 "nbformat_minor": 2
}
